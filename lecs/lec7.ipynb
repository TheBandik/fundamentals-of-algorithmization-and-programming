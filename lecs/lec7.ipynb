{
 "cells": [
  {
   "attachments": {},
   "cell_type": "markdown",
   "metadata": {},
   "source": [
    "# Перечисления\n",
    "\n",
    "## Определение\n",
    "\n",
    "Перечисляемый тип (enumeration, enumerated type) - в программировании тип данных, чьё множество значений представляет собой ограниченный список идентификаторов.\n",
    "\n",
    "Использование перечислений позволяет сделать исходные коды программ более читаемыми, так как позволяют заменить «магические числа», кодирующие определённые значения, на читаемые имена. Программируя, мы часто сталкиваемся с необходимостью ограничить множество допустимых значений для некоторого типа данных. Так, например, день недели может иметь 7 разных значений, месяц в году - 12, а время года - 4. Для решения подобных задач во многих языках программирования предусмотрен специальный тип данных - перечисление (enum)."
   ]
  },
  {
   "attachments": {},
   "cell_type": "markdown",
   "metadata": {},
   "source": [
    "Перечисления Enum в Python - это набор символических имен (членов), привязанных к уникальным постоянным значениям. Внутри перечисления члены могут сравниваться по идентичности, а само перечисление может повторяться.\n",
    "\n",
    "И так, перечисления Enum:\n",
    "\n",
    "+ Представляет собой набор символических имен (членов), привязанных к уникальным значениям\n",
    "+ Могут быть повторы, чтобы возвращать его члены в порядке определения\n",
    "+ Используют синтаксис вызова (например Color(1)) для извлечения элементов по значению\n",
    "+ Использует синтаксис индекса Color['RED'] для извлечения членов по имени\n",
    "\n",
    "Перечисления создаются либо с использованием синтаксиса класса, либо с использованием функционального синтаксиса:"
   ]
  },
  {
   "cell_type": "code",
   "execution_count": 1,
   "metadata": {},
   "outputs": [],
   "source": [
    "from enum import Enum\n",
    "\n",
    "# Синтаксис класса\n",
    "class Color(Enum):\n",
    "    RED = 1\n",
    "    GREEN = 2\n",
    "    BLUE = 3\n",
    "\n",
    "# Функциональный синтаксис\n",
    "Color = Enum('Color', ['RED', 'GREEN', 'BLUE'])"
   ]
  },
  {
   "attachments": {},
   "cell_type": "markdown",
   "metadata": {},
   "source": [
    "Так как перечисления используются для представления констант, то рекомендуется использовать стиль написания имен для членов перечисления - `UPPER_CASE`."
   ]
  },
  {
   "attachments": {},
   "cell_type": "markdown",
   "metadata": {},
   "source": [
    "## Примеры"
   ]
  },
  {
   "cell_type": "code",
   "execution_count": 3,
   "metadata": {},
   "outputs": [
    {
     "data": {
      "text/plain": [
       "(5.976e+24, 6378140.0)"
      ]
     },
     "execution_count": 3,
     "metadata": {},
     "output_type": "execute_result"
    }
   ],
   "source": [
    "from enum import Enum\n",
    "\n",
    "class Planet(Enum):\n",
    "    MERCURY = (3.303e+23, 2.4397e6)\n",
    "    VENUS   = (4.869e+24, 6.0518e6)\n",
    "    EARTH   = (5.976e+24, 6.37814e6)\n",
    "    MARS    = (6.421e+23, 3.3972e6)\n",
    "    JUPITER = (1.9e+27,   7.1492e7)\n",
    "    SATURN  = (5.688e+26, 6.0268e7)\n",
    "    URANUS  = (8.686e+25, 2.5559e7)\n",
    "    NEPTUNE = (1.024e+26, 2.4746e7)\n",
    "\n",
    "    def __init__(self, mass, radius):\n",
    "        self.mass = mass\n",
    "        self.radius = radius\n",
    "    \n",
    "    @property\n",
    "    def surface_gravity(self):\n",
    "        G = 6.67300E-11\n",
    "        return G * self.mass / (self.radius * self.radius)\n",
    "\n",
    "Planet.EARTH.value"
   ]
  },
  {
   "cell_type": "code",
   "execution_count": 4,
   "metadata": {},
   "outputs": [
    {
     "name": "stdout",
     "output_type": "stream",
     "text": [
      "Weapon.SWORD\n",
      "True\n",
      "<enum 'Weapon'>\n",
      "<Weapon.SWORD: 1>\n",
      "Weapon.SWORD\n",
      "Weapon.SWORD\n"
     ]
    }
   ],
   "source": [
    "from enum import Enum\n",
    "    \n",
    "class Weapon(Enum):\n",
    "        SWORD = 1\n",
    "        BOW = 2\n",
    "        DAGGER = 3\n",
    "        CLUB = 4\n",
    "\n",
    "weapon = Weapon.SWORD\n",
    "\n",
    "print(weapon)\n",
    "print(isinstance(weapon, Weapon))\n",
    "print(type(weapon))\n",
    "print(repr(weapon))\n",
    "\n",
    "print(Weapon['SWORD'])\n",
    "print(Weapon(1))"
   ]
  },
  {
   "cell_type": "code",
   "execution_count": 5,
   "metadata": {},
   "outputs": [
    {
     "name": "stdout",
     "output_type": "stream",
     "text": [
      "Weapon.SWORD\n",
      "Weapon.BOW\n",
      "Weapon.DAGGER\n",
      "Weapon.CLUB\n",
      "SWORD 10\n",
      "BOW 11\n",
      "DAGGER 12\n",
      "CLUB 13\n"
     ]
    }
   ],
   "source": [
    "from enum import Enum\n",
    "\n",
    "Weapon = Enum('Weapon', 'SWORD BOW DAGGER CLUB', start=10)\n",
    "\n",
    "for weapon in Weapon:\n",
    "    print(weapon)\n",
    "\n",
    "for weapon in Weapon:\n",
    "    print(weapon.name, weapon.value)"
   ]
  },
  {
   "cell_type": "code",
   "execution_count": 6,
   "metadata": {},
   "outputs": [
    {
     "name": "stdout",
     "output_type": "stream",
     "text": [
      "1\n",
      "2\n",
      "3\n",
      "4\n"
     ]
    }
   ],
   "source": [
    "from enum import Enum, auto\n",
    "    \n",
    "class Weapon(Enum):\n",
    "    SWORD = auto()\n",
    "    BOW = auto()\n",
    "    DAGGER = auto()\n",
    "    CLUB = auto()\n",
    "\n",
    "for weapon in Weapon:\n",
    "    print(weapon.value)"
   ]
  },
  {
   "cell_type": "code",
   "execution_count": 8,
   "metadata": {},
   "outputs": [
    {
     "ename": "ValueError",
     "evalue": "duplicate values found in <enum 'Weapon'>: CLUB -> DAGGER",
     "output_type": "error",
     "traceback": [
      "\u001b[1;31m---------------------------------------------------------------------------\u001b[0m",
      "\u001b[1;31mValueError\u001b[0m                                Traceback (most recent call last)",
      "Cell \u001b[1;32mIn [8], line 3\u001b[0m\n\u001b[0;32m      1\u001b[0m \u001b[39mfrom\u001b[39;00m \u001b[39menum\u001b[39;00m \u001b[39mimport\u001b[39;00m Enum, unique\n\u001b[1;32m----> 3\u001b[0m \u001b[39m@unique\u001b[39;49m\n\u001b[0;32m      4\u001b[0m \u001b[39mclass\u001b[39;49;00m \u001b[39mWeapon\u001b[39;49;00m(Enum):\n\u001b[0;32m      5\u001b[0m     SWORD \u001b[39m=\u001b[39;49m \u001b[39m1\u001b[39;49m\n\u001b[0;32m      6\u001b[0m     BOW \u001b[39m=\u001b[39;49m \u001b[39m2\u001b[39;49m\n",
      "File \u001b[1;32mc:\\Users\\theba\\AppData\\Local\\Programs\\Python\\Python311\\Lib\\enum.py:1543\u001b[0m, in \u001b[0;36munique\u001b[1;34m(enumeration)\u001b[0m\n\u001b[0;32m   1540\u001b[0m \u001b[39mif\u001b[39;00m duplicates:\n\u001b[0;32m   1541\u001b[0m     alias_details \u001b[39m=\u001b[39m \u001b[39m'\u001b[39m\u001b[39m, \u001b[39m\u001b[39m'\u001b[39m\u001b[39m.\u001b[39mjoin(\n\u001b[0;32m   1542\u001b[0m             [\u001b[39m\"\u001b[39m\u001b[39m%s\u001b[39;00m\u001b[39m -> \u001b[39m\u001b[39m%s\u001b[39;00m\u001b[39m\"\u001b[39m \u001b[39m%\u001b[39m (alias, name) \u001b[39mfor\u001b[39;00m (alias, name) \u001b[39min\u001b[39;00m duplicates])\n\u001b[1;32m-> 1543\u001b[0m     \u001b[39mraise\u001b[39;00m \u001b[39mValueError\u001b[39;00m(\u001b[39m'\u001b[39m\u001b[39mduplicate values found in \u001b[39m\u001b[39m%r\u001b[39;00m\u001b[39m: \u001b[39m\u001b[39m%s\u001b[39;00m\u001b[39m'\u001b[39m \u001b[39m%\u001b[39m\n\u001b[0;32m   1544\u001b[0m             (enumeration, alias_details))\n\u001b[0;32m   1545\u001b[0m \u001b[39mreturn\u001b[39;00m enumeration\n",
      "\u001b[1;31mValueError\u001b[0m: duplicate values found in <enum 'Weapon'>: CLUB -> DAGGER"
     ]
    }
   ],
   "source": [
    "from enum import Enum, unique\n",
    "\n",
    "@unique\n",
    "class Weapon(Enum):\n",
    "    SWORD = 1\n",
    "    BOW = 2\n",
    "    DAGGER = 3\n",
    "    CLUB = 3\n",
    "\n",
    "for weapon in Weapon:\n",
    "    print(weapon)"
   ]
  }
 ],
 "metadata": {
  "kernelspec": {
   "display_name": "Python 3",
   "language": "python",
   "name": "python3"
  },
  "language_info": {
   "codemirror_mode": {
    "name": "ipython",
    "version": 3
   },
   "file_extension": ".py",
   "mimetype": "text/x-python",
   "name": "python",
   "nbconvert_exporter": "python",
   "pygments_lexer": "ipython3",
   "version": "3.11.0"
  },
  "orig_nbformat": 4,
  "vscode": {
   "interpreter": {
    "hash": "1b032452825cfb918ba2aa96def1bfe72203d70ad656b993aaacfcdaaaef8735"
   }
  }
 },
 "nbformat": 4,
 "nbformat_minor": 2
}
